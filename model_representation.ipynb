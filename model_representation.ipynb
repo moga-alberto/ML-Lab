{
 "cells": [
  {
   "cell_type": "code",
   "id": "initial_id",
   "metadata": {
    "collapsed": true,
    "ExecuteTime": {
     "end_time": "2025-03-04T18:16:29.870092Z",
     "start_time": "2025-03-04T18:16:29.725952Z"
    }
   },
   "source": "import numpy as np\n",
   "outputs": [],
   "execution_count": 3
  },
  {
   "metadata": {
    "ExecuteTime": {
     "end_time": "2025-03-04T18:16:29.878299Z",
     "start_time": "2025-03-04T18:16:29.875172Z"
    }
   },
   "cell_type": "code",
   "source": [
    "x_train = np.array([1,0, 2,0]);\n",
    "y_train = np.array([300,0, 500,0]);\n",
    "print('x_train = ', x_train)\n",
    "print('y_train = ', y_train)"
   ],
   "id": "1d06d6effc6b4638",
   "outputs": [
    {
     "name": "stdout",
     "output_type": "stream",
     "text": [
      "x_train =  [1 0 2 0]\n",
      "y_train =  [300   0 500   0]\n"
     ]
    }
   ],
   "execution_count": 4
  },
  {
   "metadata": {},
   "cell_type": "code",
   "outputs": [],
   "execution_count": null,
   "source": "",
   "id": "6e29716a025f58cb"
  }
 ],
 "metadata": {
  "kernelspec": {
   "display_name": "Python 3",
   "language": "python",
   "name": "python3"
  },
  "language_info": {
   "codemirror_mode": {
    "name": "ipython",
    "version": 2
   },
   "file_extension": ".py",
   "mimetype": "text/x-python",
   "name": "python",
   "nbconvert_exporter": "python",
   "pygments_lexer": "ipython2",
   "version": "2.7.6"
  }
 },
 "nbformat": 4,
 "nbformat_minor": 5
}
