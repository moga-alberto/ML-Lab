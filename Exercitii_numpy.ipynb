{
 "cells": [
  {
   "cell_type": "markdown",
   "id": "1ce7c53f",
   "metadata": {},
   "source": []
  },
  {
   "cell_type": "markdown",
   "id": "dcc6b1ac",
   "metadata": {},
   "source": [
    "#### 1. Import the numpy package under the name `np` (★☆☆)"
   ]
  },
  {
   "cell_type": "code",
   "id": "6c52078e",
   "metadata": {
    "ExecuteTime": {
     "end_time": "2025-03-05T07:17:08.905142Z",
     "start_time": "2025-03-05T07:17:08.722988Z"
    }
   },
   "source": [
    "import numpy as np"
   ],
   "outputs": [],
   "execution_count": 2
  },
  {
   "cell_type": "markdown",
   "id": "118ded29",
   "metadata": {},
   "source": [
    "#### 2. Print the numpy version and the configuration (★☆☆)"
   ]
  },
  {
   "cell_type": "code",
   "id": "023a2c52",
   "metadata": {
    "ExecuteTime": {
     "end_time": "2025-03-05T07:17:08.929386Z",
     "start_time": "2025-03-05T07:17:08.914624Z"
    }
   },
   "source": [
    "print(np.__version__)\n",
    "print(np.show_config())\n"
   ],
   "outputs": [
    {
     "name": "stdout",
     "output_type": "stream",
     "text": [
      "2.2.3\n",
      "Build Dependencies:\n",
      "  blas:\n",
      "    detection method: system\n",
      "    found: true\n",
      "    include directory: unknown\n",
      "    lib directory: unknown\n",
      "    name: accelerate\n",
      "    openblas configuration: unknown\n",
      "    pc file directory: unknown\n",
      "    version: unknown\n",
      "  lapack:\n",
      "    detection method: system\n",
      "    found: true\n",
      "    include directory: unknown\n",
      "    lib directory: unknown\n",
      "    name: accelerate\n",
      "    openblas configuration: unknown\n",
      "    pc file directory: unknown\n",
      "    version: unknown\n",
      "Compilers:\n",
      "  c:\n",
      "    commands: cc\n",
      "    linker: ld64\n",
      "    name: clang\n",
      "    version: 15.0.0\n",
      "  c++:\n",
      "    commands: c++\n",
      "    linker: ld64\n",
      "    name: clang\n",
      "    version: 15.0.0\n",
      "  cython:\n",
      "    commands: cython\n",
      "    linker: cython\n",
      "    name: cython\n",
      "    version: 3.0.12\n",
      "Machine Information:\n",
      "  build:\n",
      "    cpu: aarch64\n",
      "    endian: little\n",
      "    family: aarch64\n",
      "    system: darwin\n",
      "  host:\n",
      "    cpu: aarch64\n",
      "    endian: little\n",
      "    family: aarch64\n",
      "    system: darwin\n",
      "Python Information:\n",
      "  path: /private/var/folders/s3/vj2zzxnd01l53jcjc04ljvz80000gn/T/build-env-uj2xv9ib/bin/python\n",
      "  version: '3.12'\n",
      "SIMD Extensions:\n",
      "  baseline:\n",
      "  - NEON\n",
      "  - NEON_FP16\n",
      "  - NEON_VFPV4\n",
      "  - ASIMD\n",
      "  found:\n",
      "  - ASIMDHP\n",
      "  not found:\n",
      "  - ASIMDFHM\n",
      "\n",
      "None\n"
     ]
    }
   ],
   "execution_count": 3
  },
  {
   "cell_type": "markdown",
   "id": "172b913a",
   "metadata": {},
   "source": [
    "#### 3. Create a null vector of size 10 (★☆☆)"
   ]
  },
  {
   "cell_type": "code",
   "id": "df54025a",
   "metadata": {
    "ExecuteTime": {
     "end_time": "2025-03-05T07:17:08.961344Z",
     "start_time": "2025-03-05T07:17:08.958340Z"
    }
   },
   "source": [
    "null_vector = np.zeros(10)"
   ],
   "outputs": [],
   "execution_count": 4
  },
  {
   "cell_type": "markdown",
   "id": "95ee9e07",
   "metadata": {},
   "source": [
    "#### 4. How to find the memory size of any array (★☆☆)"
   ]
  },
  {
   "cell_type": "code",
   "id": "5c5b0950",
   "metadata": {
    "ExecuteTime": {
     "end_time": "2025-03-05T07:17:08.987927Z",
     "start_time": "2025-03-05T07:17:08.984435Z"
    }
   },
   "source": [
    "null_vector.nbytes"
   ],
   "outputs": [
    {
     "data": {
      "text/plain": [
       "80"
      ]
     },
     "execution_count": 5,
     "metadata": {},
     "output_type": "execute_result"
    }
   ],
   "execution_count": 5
  },
  {
   "cell_type": "markdown",
   "id": "45fca154",
   "metadata": {},
   "source": [
    "#### 5. How to get the documentation of the numpy add function from the command line? (★☆☆)"
   ]
  },
  {
   "cell_type": "code",
   "id": "fcb1248a",
   "metadata": {
    "ExecuteTime": {
     "end_time": "2025-03-05T07:17:09.036402Z",
     "start_time": "2025-03-05T07:17:09.030032Z"
    }
   },
   "source": [
    "help(np.add)"
   ],
   "outputs": [
    {
     "name": "stdout",
     "output_type": "stream",
     "text": [
      "Help on ufunc in module numpy:\n",
      "\n",
      "add = <ufunc 'add'>\n",
      "    add(x1, x2, /, out=None, *, where=True, casting='same_kind', order='K', dtype=None, subok=True[, signature])\n",
      "\n",
      "    Add arguments element-wise.\n",
      "\n",
      "    Parameters\n",
      "    ----------\n",
      "    x1, x2 : array_like\n",
      "        The arrays to be added.\n",
      "        If ``x1.shape != x2.shape``, they must be broadcastable to a common\n",
      "        shape (which becomes the shape of the output).\n",
      "    out : ndarray, None, or tuple of ndarray and None, optional\n",
      "        A location into which the result is stored. If provided, it must have\n",
      "        a shape that the inputs broadcast to. If not provided or None,\n",
      "        a freshly-allocated array is returned. A tuple (possible only as a\n",
      "        keyword argument) must have length equal to the number of outputs.\n",
      "    where : array_like, optional\n",
      "        This condition is broadcast over the input. At locations where the\n",
      "        condition is True, the `out` array will be set to the ufunc result.\n",
      "        Elsewhere, the `out` array will retain its original value.\n",
      "        Note that if an uninitialized `out` array is created via the default\n",
      "        ``out=None``, locations within it where the condition is False will\n",
      "        remain uninitialized.\n",
      "    **kwargs\n",
      "        For other keyword-only arguments, see the\n",
      "        :ref:`ufunc docs <ufuncs.kwargs>`.\n",
      "\n",
      "    Returns\n",
      "    -------\n",
      "    add : ndarray or scalar\n",
      "        The sum of `x1` and `x2`, element-wise.\n",
      "        This is a scalar if both `x1` and `x2` are scalars.\n",
      "\n",
      "    Notes\n",
      "    -----\n",
      "    Equivalent to `x1` + `x2` in terms of array broadcasting.\n",
      "\n",
      "    Examples\n",
      "    --------\n",
      "    >>> import numpy as np\n",
      "    >>> np.add(1.0, 4.0)\n",
      "    5.0\n",
      "    >>> x1 = np.arange(9.0).reshape((3, 3))\n",
      "    >>> x2 = np.arange(3.0)\n",
      "    >>> np.add(x1, x2)\n",
      "    array([[  0.,   2.,   4.],\n",
      "           [  3.,   5.,   7.],\n",
      "           [  6.,   8.,  10.]])\n",
      "\n",
      "    The ``+`` operator can be used as a shorthand for ``np.add`` on ndarrays.\n",
      "\n",
      "    >>> x1 = np.arange(9.0).reshape((3, 3))\n",
      "    >>> x2 = np.arange(3.0)\n",
      "    >>> x1 + x2\n",
      "    array([[ 0.,  2.,  4.],\n",
      "           [ 3.,  5.,  7.],\n",
      "           [ 6.,  8., 10.]])\n",
      "\n"
     ]
    }
   ],
   "execution_count": 6
  },
  {
   "cell_type": "markdown",
   "id": "674e8019",
   "metadata": {},
   "source": [
    "#### 6. Create a null vector of size 10 but the fifth value which is 1 (★☆☆)"
   ]
  },
  {
   "cell_type": "code",
   "id": "452df2a7",
   "metadata": {
    "ExecuteTime": {
     "end_time": "2025-03-05T07:17:09.072751Z",
     "start_time": "2025-03-05T07:17:09.070205Z"
    }
   },
   "source": [
    "null_vector_2 = np.zeros(10)\n",
    "null_vector_2[4] = 1"
   ],
   "outputs": [],
   "execution_count": 7
  },
  {
   "cell_type": "markdown",
   "id": "7685e337",
   "metadata": {},
   "source": [
    "#### 7. Create a vector with values ranging from 10 to 49 (★☆☆)"
   ]
  },
  {
   "cell_type": "code",
   "id": "10847d11",
   "metadata": {
    "ExecuteTime": {
     "end_time": "2025-03-05T07:17:09.103754Z",
     "start_time": "2025-03-05T07:17:09.101044Z"
    }
   },
   "source": [
    "range_vector = np.linspace(10,49)"
   ],
   "outputs": [],
   "execution_count": 8
  },
  {
   "cell_type": "markdown",
   "id": "54c913ba",
   "metadata": {},
   "source": [
    "#### 8. Reverse a vector (first element becomes last) (★☆☆)"
   ]
  },
  {
   "cell_type": "code",
   "id": "34722e83",
   "metadata": {
    "ExecuteTime": {
     "end_time": "2025-03-05T07:17:09.135635Z",
     "start_time": "2025-03-05T07:17:09.132716Z"
    }
   },
   "source": [
    "reversed_vector = np.flip(range_vector)\n",
    "print(reversed_vector)"
   ],
   "outputs": [
    {
     "name": "stdout",
     "output_type": "stream",
     "text": [
      "[49.         48.20408163 47.40816327 46.6122449  45.81632653 45.02040816\n",
      " 44.2244898  43.42857143 42.63265306 41.83673469 41.04081633 40.24489796\n",
      " 39.44897959 38.65306122 37.85714286 37.06122449 36.26530612 35.46938776\n",
      " 34.67346939 33.87755102 33.08163265 32.28571429 31.48979592 30.69387755\n",
      " 29.89795918 29.10204082 28.30612245 27.51020408 26.71428571 25.91836735\n",
      " 25.12244898 24.32653061 23.53061224 22.73469388 21.93877551 21.14285714\n",
      " 20.34693878 19.55102041 18.75510204 17.95918367 17.16326531 16.36734694\n",
      " 15.57142857 14.7755102  13.97959184 13.18367347 12.3877551  11.59183673\n",
      " 10.79591837 10.        ]\n"
     ]
    }
   ],
   "execution_count": 9
  },
  {
   "cell_type": "markdown",
   "id": "8e72fd08",
   "metadata": {},
   "source": [
    "#### 9. Create a 3x3 matrix with values ranging from 0 to 8 (★☆☆)"
   ]
  },
  {
   "cell_type": "code",
   "id": "e18eef56",
   "metadata": {
    "ExecuteTime": {
     "end_time": "2025-03-05T07:17:09.174193Z",
     "start_time": "2025-03-05T07:17:09.171695Z"
    }
   },
   "source": [
    "matrix = np.matrix(np.arange(9).reshape(3, 3))\n",
    "print(matrix)"
   ],
   "outputs": [
    {
     "name": "stdout",
     "output_type": "stream",
     "text": [
      "[[0 1 2]\n",
      " [3 4 5]\n",
      " [6 7 8]]\n"
     ]
    }
   ],
   "execution_count": 10
  },
  {
   "cell_type": "markdown",
   "id": "088424fc",
   "metadata": {},
   "source": [
    "#### 10. Find indices of non-zero elements from [1,2,0,0,4,0] (★☆☆)"
   ]
  },
  {
   "cell_type": "code",
   "id": "9a402d06",
   "metadata": {
    "ExecuteTime": {
     "end_time": "2025-03-05T07:17:09.214574Z",
     "start_time": "2025-03-05T07:17:09.212207Z"
    }
   },
   "source": [
    "array_with_zeros = np.array([1,2,0,0,4,0])\n",
    "non_zero_indices = np.nonzero(array_with_zeros)\n",
    "print(non_zero_indices)"
   ],
   "outputs": [
    {
     "name": "stdout",
     "output_type": "stream",
     "text": [
      "(array([0, 1, 4]),)\n"
     ]
    }
   ],
   "execution_count": 11
  },
  {
   "cell_type": "markdown",
   "id": "3f347de9",
   "metadata": {},
   "source": [
    "#### 11. Create a 3x3 identity matrix (★☆☆)"
   ]
  },
  {
   "cell_type": "code",
   "id": "e38459c2",
   "metadata": {
    "ExecuteTime": {
     "end_time": "2025-03-05T07:17:09.247299Z",
     "start_time": "2025-03-05T07:17:09.244958Z"
    }
   },
   "source": [
    "identity_matrix = np.matrix(np.eye(3))\n",
    "print(identity_matrix)"
   ],
   "outputs": [
    {
     "name": "stdout",
     "output_type": "stream",
     "text": [
      "[[1. 0. 0.]\n",
      " [0. 1. 0.]\n",
      " [0. 0. 1.]]\n"
     ]
    }
   ],
   "execution_count": 12
  },
  {
   "cell_type": "markdown",
   "id": "24e98f25",
   "metadata": {},
   "source": [
    "#### 12. Create a 3x3x3 array with random values (★☆☆)"
   ]
  },
  {
   "cell_type": "code",
   "id": "94752bb3",
   "metadata": {
    "ExecuteTime": {
     "end_time": "2025-03-05T07:17:09.403343Z",
     "start_time": "2025-03-05T07:17:09.296861Z"
    }
   },
   "source": [
    "import random\n",
    "\n",
    "arr3d = np.random.randint(random.randint(1, 50), random.randint(50, 100), (3, 3, 3))\n",
    "print(arr3d)"
   ],
   "outputs": [
    {
     "name": "stdout",
     "output_type": "stream",
     "text": [
      "[[[52 45 33]\n",
      "  [33 51 35]\n",
      "  [40 35 50]]\n",
      "\n",
      " [[33 33 35]\n",
      "  [46 44 35]\n",
      "  [49 40 40]]\n",
      "\n",
      " [[37 32 48]\n",
      "  [38 42 35]\n",
      "  [31 31 32]]]\n"
     ]
    }
   ],
   "execution_count": 13
  },
  {
   "cell_type": "markdown",
   "id": "7cbca2cc",
   "metadata": {},
   "source": [
    "#### 13. Create a 10x10 array with random values and find the minimum and maximum values (★☆☆)"
   ]
  },
  {
   "cell_type": "code",
   "id": "c0643b1f",
   "metadata": {
    "ExecuteTime": {
     "end_time": "2025-03-05T07:17:09.416919Z",
     "start_time": "2025-03-05T07:17:09.412221Z"
    }
   },
   "source": [
    "arr2d = np.random.randint(random.randint(1, 50), random.randint(50, 100), (10, 10))\n",
    "min_arr2d = arr2d.min()\n",
    "max_arr2d = arr2d.max()\n",
    "print(arr2d)\n",
    "print(min_arr2d)\n",
    "print(max_arr2d)"
   ],
   "outputs": [
    {
     "name": "stdout",
     "output_type": "stream",
     "text": [
      "[[36 56 48 41 42 35 50 53 33 56]\n",
      " [33 41 49 43 42 34 43 50 46 43]\n",
      " [42 42 45 51 49 41 32 34 50 48]\n",
      " [50 46 38 55 42 42 40 54 50 34]\n",
      " [55 53 41 40 47 57 53 42 50 47]\n",
      " [43 42 37 41 48 45 37 52 42 49]\n",
      " [53 52 37 40 46 54 32 51 40 50]\n",
      " [38 44 32 56 53 44 48 55 39 53]\n",
      " [32 40 42 42 40 37 43 52 55 55]\n",
      " [37 47 50 35 44 45 41 47 46 51]]\n",
      "32\n",
      "57\n"
     ]
    }
   ],
   "execution_count": 14
  },
  {
   "cell_type": "markdown",
   "id": "6cab4cbb",
   "metadata": {},
   "source": [
    "#### 14. Create a random vector of size 30 and find the mean value (★☆☆)"
   ]
  },
  {
   "cell_type": "code",
   "id": "e922a524",
   "metadata": {
    "ExecuteTime": {
     "end_time": "2025-03-05T07:17:09.452819Z",
     "start_time": "2025-03-05T07:17:09.450216Z"
    }
   },
   "source": [
    "rand_vector30 = np.random.randint(random.randint(1, 50), random.randint(50, 100), 30)\n",
    "mean_value = rand_vector30.mean()\n",
    "print(rand_vector30)\n",
    "print(mean_value)"
   ],
   "outputs": [
    {
     "name": "stdout",
     "output_type": "stream",
     "text": [
      "[47 49 64 49 69 63 65 47 60 48 65 46 56 61 48 65 58 59 63 64 65 47 68 51\n",
      " 55 69 58 57 57 63]\n",
      "57.86666666666667\n"
     ]
    }
   ],
   "execution_count": 15
  },
  {
   "cell_type": "markdown",
   "id": "72053be8",
   "metadata": {},
   "source": [
    "#### 15. Create a 2d array with 1 on the border and 0 inside (★☆☆)"
   ]
  },
  {
   "cell_type": "code",
   "id": "6bc84dfe",
   "metadata": {
    "ExecuteTime": {
     "end_time": "2025-03-05T07:36:07.988322Z",
     "start_time": "2025-03-05T07:36:07.919582Z"
    }
   },
   "source": [
    "size = 5\n",
    "border = 1\n",
    "\n",
    "target_array = np.zeros((size, size), dtype=int)\n",
    "target_array[:, [0, -1]] = border\n",
    "target_array[[0, -1], :] = border\n",
    "\n",
    "target_array2 = np.pad(np.zeros((size - 2, size - 2), dtype=int), pad_width=1, constant_values=border)\n",
    "\n",
    "print(target_array, '\\n')\n",
    "print(target_array2)"
   ],
   "outputs": [
    {
     "name": "stdout",
     "output_type": "stream",
     "text": [
      "[[1 1 1 1 1]\n",
      " [1 0 0 0 1]\n",
      " [1 0 0 0 1]\n",
      " [1 0 0 0 1]\n",
      " [1 1 1 1 1]] \n",
      "\n",
      "[[1 1 1 1 1]\n",
      " [1 0 0 0 1]\n",
      " [1 0 0 0 1]\n",
      " [1 0 0 0 1]\n",
      " [1 1 1 1 1]]\n"
     ]
    }
   ],
   "execution_count": 21
  },
  {
   "cell_type": "markdown",
   "id": "86b0206b",
   "metadata": {},
   "source": [
    "#### 16. How to add a border (filled with 0's) around an existing array? (★☆☆)"
   ]
  },
  {
   "cell_type": "code",
   "id": "41e66e3e",
   "metadata": {
    "ExecuteTime": {
     "end_time": "2025-03-05T07:39:04.209798Z",
     "start_time": "2025-03-05T07:39:04.194785Z"
    }
   },
   "source": [
    "rand_arr = np.random.randint(random.randint(1, 50), random.randint(50, 100), (size-2, size-2), dtype=int)\n",
    "padded_arr = np.pad(rand_arr, pad_width=1, constant_values=0)\n",
    "print(padded_arr)"
   ],
   "outputs": [
    {
     "name": "stdout",
     "output_type": "stream",
     "text": [
      "[[ 0  0  0  0  0]\n",
      " [ 0 58 63 48  0]\n",
      " [ 0 45 54 52  0]\n",
      " [ 0 74 60 42  0]\n",
      " [ 0  0  0  0  0]]\n"
     ]
    }
   ],
   "execution_count": 22
  },
  {
   "cell_type": "markdown",
   "id": "98a45574",
   "metadata": {},
   "source": [
    "#### 17. What is the result of the following expression? (★☆☆)\n",
    "```python\n",
    "0 * np.nan\n",
    "np.nan == np.nan\n",
    "np.inf > np.nan\n",
    "np.nan - np.nan\n",
    "np.nan in set([np.nan])\n",
    "0.3 == 3 * 0.1\n",
    "```"
   ]
  },
  {
   "cell_type": "code",
   "id": "7eb533d5",
   "metadata": {
    "ExecuteTime": {
     "end_time": "2025-03-05T07:48:35.503667Z",
     "start_time": "2025-03-05T07:48:35.494321Z"
    }
   },
   "source": [
    "print(0 * np.nan)\n",
    "print(np.nan == np.nan)\n",
    "print(np.inf > np.nan)\n",
    "print(np.nan - np.nan)\n",
    "print(np.nan in set([np.nan]))\n",
    "print(0.3 == 3 * 0.1)"
   ],
   "outputs": [
    {
     "name": "stdout",
     "output_type": "stream",
     "text": [
      "nan\n",
      "False\n",
      "False\n",
      "nan\n",
      "True\n",
      "False\n"
     ]
    }
   ],
   "execution_count": 23
  },
  {
   "cell_type": "markdown",
   "id": "1486619a",
   "metadata": {},
   "source": [
    "#### 18. Create a 5x5 matrix with values 1,2,3,4 just below the diagonal (★☆☆)"
   ]
  },
  {
   "cell_type": "code",
   "id": "2b9fb59c",
   "metadata": {
    "ExecuteTime": {
     "end_time": "2025-03-05T07:17:09.705360Z",
     "start_time": "2025-03-05T07:17:09.703962Z"
    }
   },
   "source": [],
   "outputs": [],
   "execution_count": null
  },
  {
   "cell_type": "markdown",
   "id": "319287fd",
   "metadata": {},
   "source": [
    "#### 19. Create a 8x8 matrix and fill it with a checkerboard pattern (★☆☆)"
   ]
  },
  {
   "cell_type": "code",
   "id": "299f5e60",
   "metadata": {
    "ExecuteTime": {
     "end_time": "2025-03-05T07:17:09.744590Z",
     "start_time": "2025-03-05T07:17:09.741810Z"
    }
   },
   "source": [],
   "outputs": [],
   "execution_count": null
  },
  {
   "cell_type": "markdown",
   "id": "fb1686ed",
   "metadata": {},
   "source": [
    "#### 20. Consider a (6,7,8) shape array, what is the index (x,y,z) of the 100th element? (★☆☆)"
   ]
  },
  {
   "cell_type": "code",
   "id": "22888cc4",
   "metadata": {
    "ExecuteTime": {
     "end_time": "2025-03-05T07:17:09.781632Z",
     "start_time": "2025-03-05T07:17:09.779205Z"
    }
   },
   "source": [],
   "outputs": [],
   "execution_count": null
  },
  {
   "cell_type": "markdown",
   "id": "137ea278",
   "metadata": {},
   "source": [
    "#### 21. Create a checkerboard 8x8 matrix using the tile function (★☆☆)"
   ]
  },
  {
   "cell_type": "code",
   "id": "9cb81fe1",
   "metadata": {
    "ExecuteTime": {
     "end_time": "2025-03-05T07:17:09.798581Z",
     "start_time": "2025-03-05T07:17:09.796151Z"
    }
   },
   "source": [],
   "outputs": [],
   "execution_count": null
  },
  {
   "cell_type": "markdown",
   "id": "9319f5a1",
   "metadata": {},
   "source": [
    "#### 22. Normalize a 5x5 random matrix (★☆☆)"
   ]
  },
  {
   "cell_type": "code",
   "id": "fcdc0459",
   "metadata": {
    "ExecuteTime": {
     "end_time": "2025-03-05T07:17:09.836775Z",
     "start_time": "2025-03-05T07:17:09.835484Z"
    }
   },
   "source": [],
   "outputs": [],
   "execution_count": null
  },
  {
   "cell_type": "markdown",
   "id": "f1902fef",
   "metadata": {},
   "source": [
    "#### 23. Create a custom dtype that describes a color as four unsigned bytes (RGBA) (★☆☆)"
   ]
  },
  {
   "cell_type": "code",
   "id": "7445cb2d",
   "metadata": {
    "ExecuteTime": {
     "end_time": "2025-03-05T07:17:09.873373Z",
     "start_time": "2025-03-05T07:17:09.871624Z"
    }
   },
   "source": [],
   "outputs": [],
   "execution_count": null
  },
  {
   "cell_type": "markdown",
   "id": "3f34bd2a",
   "metadata": {},
   "source": [
    "#### 24. Multiply a 5x3 matrix by a 3x2 matrix (real matrix product) (★☆☆)"
   ]
  },
  {
   "cell_type": "code",
   "id": "ec8bd6da",
   "metadata": {
    "ExecuteTime": {
     "end_time": "2025-03-05T07:17:09.889239Z",
     "start_time": "2025-03-05T07:17:09.887263Z"
    }
   },
   "source": [],
   "outputs": [],
   "execution_count": null
  },
  {
   "cell_type": "markdown",
   "id": "b1919ba3",
   "metadata": {},
   "source": [
    "#### 25. Given a 1D array, negate all elements which are between 3 and 8, in place. (★☆☆)"
   ]
  },
  {
   "cell_type": "code",
   "id": "5b63b63b",
   "metadata": {
    "ExecuteTime": {
     "end_time": "2025-03-05T07:17:09.916675Z",
     "start_time": "2025-03-05T07:17:09.915309Z"
    }
   },
   "source": [],
   "outputs": [],
   "execution_count": null
  },
  {
   "cell_type": "markdown",
   "id": "fb1daa27",
   "metadata": {},
   "source": [
    "#### 26. What is the output of the following script? (★☆☆)\n",
    "```python\n",
    "# Author: Jake VanderPlas\n",
    "\n",
    "print(sum(range(5),-1))\n",
    "from numpy import *\n",
    "print(sum(range(5),-1))\n",
    "```"
   ]
  },
  {
   "cell_type": "code",
   "id": "52a34d3d",
   "metadata": {
    "ExecuteTime": {
     "end_time": "2025-03-05T07:17:09.941226Z",
     "start_time": "2025-03-05T07:17:09.939827Z"
    }
   },
   "source": [],
   "outputs": [],
   "execution_count": null
  },
  {
   "cell_type": "markdown",
   "id": "89b7e7a7",
   "metadata": {},
   "source": [
    "#### 27. Consider an integer vector Z, which of these expressions are legal? (★☆☆)\n",
    "```python\n",
    "Z**Z\n",
    "2 << Z >> 2\n",
    "Z <- Z\n",
    "1j*Z\n",
    "Z/1/1\n",
    "Z<Z>Z\n",
    "```"
   ]
  },
  {
   "cell_type": "code",
   "id": "451181cf",
   "metadata": {
    "ExecuteTime": {
     "end_time": "2025-03-05T07:17:09.981462Z",
     "start_time": "2025-03-05T07:17:09.966151Z"
    }
   },
   "source": [],
   "outputs": [],
   "execution_count": null
  },
  {
   "cell_type": "markdown",
   "id": "8c7601c6",
   "metadata": {},
   "source": [
    "#### 28. What are the result of the following expressions? (★☆☆)\n",
    "```python\n",
    "np.array(0) / np.array(0)\n",
    "np.array(0) // np.array(0)\n",
    "np.array([np.nan]).astype(int).astype(float)\n",
    "```"
   ]
  },
  {
   "cell_type": "code",
   "id": "52983a0b",
   "metadata": {
    "ExecuteTime": {
     "end_time": "2025-03-05T07:17:10.028165Z",
     "start_time": "2025-03-05T07:17:10.026553Z"
    }
   },
   "source": [],
   "outputs": [],
   "execution_count": null
  },
  {
   "cell_type": "markdown",
   "id": "06c9164d",
   "metadata": {},
   "source": [
    "#### 29. How to round away from zero a float array ? (★☆☆)"
   ]
  },
  {
   "cell_type": "code",
   "id": "4cce0af8",
   "metadata": {
    "ExecuteTime": {
     "end_time": "2025-03-05T07:17:10.047463Z",
     "start_time": "2025-03-05T07:17:10.044370Z"
    }
   },
   "source": [],
   "outputs": [],
   "execution_count": null
  },
  {
   "cell_type": "markdown",
   "id": "52235994",
   "metadata": {},
   "source": [
    "#### 30. How to find common values between two arrays? (★☆☆)"
   ]
  },
  {
   "cell_type": "code",
   "id": "27eff6b1",
   "metadata": {
    "ExecuteTime": {
     "end_time": "2025-03-05T07:17:10.064676Z",
     "start_time": "2025-03-05T07:17:10.062279Z"
    }
   },
   "source": [],
   "outputs": [],
   "execution_count": null
  },
  {
   "cell_type": "markdown",
   "id": "7e6f7d78",
   "metadata": {},
   "source": [
    "#### 31. How to ignore all numpy warnings (not recommended)? (★☆☆)"
   ]
  },
  {
   "cell_type": "code",
   "id": "1bdde6e1",
   "metadata": {
    "ExecuteTime": {
     "end_time": "2025-03-05T07:17:10.125365Z",
     "start_time": "2025-03-05T07:17:10.123043Z"
    }
   },
   "source": [],
   "outputs": [],
   "execution_count": null
  },
  {
   "cell_type": "markdown",
   "id": "b001277e",
   "metadata": {},
   "source": [
    "#### 32. Is the following expressions true? (★☆☆)\n",
    "```python\n",
    "np.sqrt(-1) == np.emath.sqrt(-1)\n",
    "```"
   ]
  },
  {
   "cell_type": "code",
   "id": "d8673bdf",
   "metadata": {
    "ExecuteTime": {
     "end_time": "2025-03-05T07:17:10.150268Z",
     "start_time": "2025-03-05T07:17:10.147749Z"
    }
   },
   "source": [],
   "outputs": [],
   "execution_count": null
  },
  {
   "cell_type": "markdown",
   "id": "b9a5ff84",
   "metadata": {},
   "source": [
    "#### 33. How to get the dates of yesterday, today and tomorrow? (★☆☆)"
   ]
  },
  {
   "cell_type": "code",
   "id": "f33f9cc2",
   "metadata": {
    "ExecuteTime": {
     "end_time": "2025-03-05T07:17:10.183733Z",
     "start_time": "2025-03-05T07:17:10.181409Z"
    }
   },
   "source": [],
   "outputs": [],
   "execution_count": null
  },
  {
   "cell_type": "markdown",
   "id": "f8e96e58",
   "metadata": {},
   "source": [
    "#### 34. How to get all the dates corresponding to the month of July 2016? (★★☆)"
   ]
  },
  {
   "cell_type": "code",
   "id": "3927a8e8",
   "metadata": {
    "ExecuteTime": {
     "end_time": "2025-03-05T07:17:10.227095Z",
     "start_time": "2025-03-05T07:17:10.224143Z"
    }
   },
   "source": [],
   "outputs": [],
   "execution_count": null
  },
  {
   "cell_type": "markdown",
   "id": "557c163e",
   "metadata": {},
   "source": [
    "#### 35. How to compute ((A+B)*(-A/2)) in place (without copy)? (★★☆)"
   ]
  },
  {
   "cell_type": "code",
   "id": "3c2f59ac",
   "metadata": {
    "ExecuteTime": {
     "end_time": "2025-03-05T07:17:10.257575Z",
     "start_time": "2025-03-05T07:17:10.255239Z"
    }
   },
   "source": [],
   "outputs": [],
   "execution_count": null
  },
  {
   "cell_type": "markdown",
   "id": "14c05852",
   "metadata": {},
   "source": [
    "#### 36. Extract the integer part of a random array of positive numbers using 4 different methods (★★☆)"
   ]
  },
  {
   "cell_type": "code",
   "id": "8b7d2937",
   "metadata": {
    "ExecuteTime": {
     "end_time": "2025-03-05T07:17:10.305684Z",
     "start_time": "2025-03-05T07:17:10.302682Z"
    }
   },
   "source": [],
   "outputs": [],
   "execution_count": null
  },
  {
   "cell_type": "markdown",
   "id": "003b8721",
   "metadata": {},
   "source": [
    "#### 37. Create a 5x5 matrix with row values ranging from 0 to 4 (★★☆)"
   ]
  },
  {
   "cell_type": "code",
   "id": "63c75db0",
   "metadata": {
    "ExecuteTime": {
     "end_time": "2025-03-05T07:17:10.337081Z",
     "start_time": "2025-03-05T07:17:10.335546Z"
    }
   },
   "source": [],
   "outputs": [],
   "execution_count": null
  },
  {
   "cell_type": "markdown",
   "id": "8e71dc21",
   "metadata": {},
   "source": [
    "#### 38. Consider a generator function that generates 10 integers and use it to build an array (★☆☆)"
   ]
  },
  {
   "cell_type": "code",
   "id": "f6aefd94",
   "metadata": {
    "ExecuteTime": {
     "end_time": "2025-03-05T07:17:10.366625Z",
     "start_time": "2025-03-05T07:17:10.363815Z"
    }
   },
   "source": [],
   "outputs": [],
   "execution_count": null
  },
  {
   "cell_type": "markdown",
   "id": "b7f03449",
   "metadata": {},
   "source": [
    "#### 39. Create a vector of size 10 with values ranging from 0 to 1, both excluded (★★☆)"
   ]
  },
  {
   "cell_type": "code",
   "id": "a27cd904",
   "metadata": {
    "ExecuteTime": {
     "end_time": "2025-03-05T07:17:10.406161Z",
     "start_time": "2025-03-05T07:17:10.404075Z"
    }
   },
   "source": [],
   "outputs": [],
   "execution_count": null
  },
  {
   "cell_type": "markdown",
   "id": "043156c5",
   "metadata": {},
   "source": [
    "#### 40. Create a random vector of size 10 and sort it (★★☆)"
   ]
  },
  {
   "cell_type": "code",
   "id": "6ae5eb58",
   "metadata": {
    "ExecuteTime": {
     "end_time": "2025-03-05T07:17:10.447255Z",
     "start_time": "2025-03-05T07:17:10.444389Z"
    }
   },
   "source": [],
   "outputs": [],
   "execution_count": null
  },
  {
   "cell_type": "markdown",
   "id": "4f7e8f3f",
   "metadata": {},
   "source": [
    "#### 41. How to sum a small array faster than np.sum? (★★☆)"
   ]
  },
  {
   "cell_type": "code",
   "id": "88790af3",
   "metadata": {
    "ExecuteTime": {
     "end_time": "2025-03-05T07:17:10.460044Z",
     "start_time": "2025-03-05T07:17:10.458840Z"
    }
   },
   "source": [],
   "outputs": [],
   "execution_count": null
  },
  {
   "cell_type": "markdown",
   "id": "13d1ca52",
   "metadata": {},
   "source": [
    "#### 42. Consider two random array A and B, check if they are equal (★★☆)"
   ]
  },
  {
   "cell_type": "code",
   "id": "ca6dd579",
   "metadata": {
    "ExecuteTime": {
     "end_time": "2025-03-05T07:17:10.479021Z",
     "start_time": "2025-03-05T07:17:10.477394Z"
    }
   },
   "source": [],
   "outputs": [],
   "execution_count": null
  },
  {
   "cell_type": "markdown",
   "id": "cf7cca6d",
   "metadata": {},
   "source": [
    "#### 43. Make an array immutable (read-only) (★★☆)"
   ]
  },
  {
   "cell_type": "code",
   "id": "cbbb8917",
   "metadata": {
    "ExecuteTime": {
     "end_time": "2025-03-05T07:17:10.510293Z",
     "start_time": "2025-03-05T07:17:10.508580Z"
    }
   },
   "source": [],
   "outputs": [],
   "execution_count": null
  },
  {
   "cell_type": "markdown",
   "id": "37b0828f",
   "metadata": {},
   "source": [
    "#### 44. Consider a random 10x2 matrix representing cartesian coordinates, convert them to polar coordinates (★★☆)"
   ]
  },
  {
   "cell_type": "code",
   "id": "a89969af",
   "metadata": {
    "ExecuteTime": {
     "end_time": "2025-03-05T07:17:10.527268Z",
     "start_time": "2025-03-05T07:17:10.525870Z"
    }
   },
   "source": [],
   "outputs": [],
   "execution_count": null
  },
  {
   "cell_type": "markdown",
   "id": "b7d7dd80",
   "metadata": {},
   "source": [
    "#### 45. Create random vector of size 10 and replace the maximum value by 0 (★★☆)"
   ]
  },
  {
   "cell_type": "code",
   "id": "8403a440",
   "metadata": {
    "ExecuteTime": {
     "end_time": "2025-03-05T07:17:10.564336Z",
     "start_time": "2025-03-05T07:17:10.559978Z"
    }
   },
   "source": [],
   "outputs": [],
   "execution_count": null
  },
  {
   "cell_type": "markdown",
   "id": "b47e5837",
   "metadata": {},
   "source": [
    "#### 46. Create a structured array with `x` and `y` coordinates covering the [0,1]x[0,1] area (★★☆)"
   ]
  },
  {
   "cell_type": "code",
   "id": "42c72e94",
   "metadata": {
    "ExecuteTime": {
     "end_time": "2025-03-05T07:17:10.596513Z",
     "start_time": "2025-03-05T07:17:10.595271Z"
    }
   },
   "source": [],
   "outputs": [],
   "execution_count": null
  },
  {
   "cell_type": "markdown",
   "id": "8c7946ee",
   "metadata": {},
   "source": [
    "#### 47. Given two arrays, X and Y, construct the Cauchy matrix C (Cij =1/(xi - yj)) (★★☆)"
   ]
  },
  {
   "cell_type": "code",
   "id": "26b93f06",
   "metadata": {
    "ExecuteTime": {
     "end_time": "2025-03-05T07:17:10.636648Z",
     "start_time": "2025-03-05T07:17:10.632730Z"
    }
   },
   "source": [],
   "outputs": [],
   "execution_count": null
  },
  {
   "cell_type": "markdown",
   "id": "3e898e5f",
   "metadata": {},
   "source": [
    "#### 48. Print the minimum and maximum representable value for each numpy scalar type (★★☆)"
   ]
  },
  {
   "cell_type": "code",
   "id": "afd1ae18",
   "metadata": {
    "ExecuteTime": {
     "end_time": "2025-03-05T07:17:10.656593Z",
     "start_time": "2025-03-05T07:17:10.655313Z"
    }
   },
   "source": [],
   "outputs": [],
   "execution_count": null
  },
  {
   "cell_type": "markdown",
   "id": "6fe6133b",
   "metadata": {},
   "source": [
    "#### 49. How to print all the values of an array? (★★☆)"
   ]
  },
  {
   "cell_type": "code",
   "id": "5764ec92",
   "metadata": {
    "ExecuteTime": {
     "end_time": "2025-03-05T07:17:10.672498Z",
     "start_time": "2025-03-05T07:17:10.670803Z"
    }
   },
   "source": [],
   "outputs": [],
   "execution_count": null
  },
  {
   "cell_type": "markdown",
   "id": "7ee2dacc",
   "metadata": {},
   "source": [
    "#### 50. How to find the closest value (to a given scalar) in a vector? (★★☆)"
   ]
  },
  {
   "cell_type": "code",
   "id": "742518ef",
   "metadata": {
    "ExecuteTime": {
     "end_time": "2025-03-05T07:17:10.702552Z",
     "start_time": "2025-03-05T07:17:10.701020Z"
    }
   },
   "source": [],
   "outputs": [],
   "execution_count": null
  },
  {
   "cell_type": "markdown",
   "id": "cfeda6ba",
   "metadata": {},
   "source": [
    "#### 51. Create a structured array representing a position (x,y) and a color (r,g,b) (★★☆)"
   ]
  },
  {
   "cell_type": "code",
   "id": "9fcbd031",
   "metadata": {
    "ExecuteTime": {
     "end_time": "2025-03-05T07:17:10.728598Z",
     "start_time": "2025-03-05T07:17:10.726894Z"
    }
   },
   "source": [],
   "outputs": [],
   "execution_count": null
  },
  {
   "cell_type": "markdown",
   "id": "b97e75b5",
   "metadata": {},
   "source": [
    "#### 52. Consider a random vector with shape (100,2) representing coordinates, find point by point distances (★★☆)"
   ]
  },
  {
   "cell_type": "code",
   "id": "c58a45b6",
   "metadata": {
    "ExecuteTime": {
     "end_time": "2025-03-05T07:17:10.756605Z",
     "start_time": "2025-03-05T07:17:10.755106Z"
    }
   },
   "source": [],
   "outputs": [],
   "execution_count": null
  },
  {
   "cell_type": "markdown",
   "id": "291e0bb9",
   "metadata": {},
   "source": [
    "#### 53. How to convert a float (32 bits) array into an integer (32 bits) in place?"
   ]
  },
  {
   "cell_type": "code",
   "id": "2f3e6c00",
   "metadata": {
    "ExecuteTime": {
     "end_time": "2025-03-05T07:17:10.787120Z",
     "start_time": "2025-03-05T07:17:10.785632Z"
    }
   },
   "source": [],
   "outputs": [],
   "execution_count": null
  },
  {
   "cell_type": "markdown",
   "id": "1e305e92",
   "metadata": {},
   "source": [
    "#### 54. How to read the following file? (★★☆)\n",
    "```\n",
    "1, 2, 3, 4, 5\n",
    "6,  ,  , 7, 8\n",
    " ,  , 9,10,11\n",
    "```"
   ]
  },
  {
   "cell_type": "code",
   "id": "753024cb",
   "metadata": {
    "ExecuteTime": {
     "end_time": "2025-03-05T07:17:10.812283Z",
     "start_time": "2025-03-05T07:17:10.810801Z"
    }
   },
   "source": [],
   "outputs": [],
   "execution_count": null
  },
  {
   "cell_type": "markdown",
   "id": "94a8ad69",
   "metadata": {},
   "source": [
    "#### 55. What is the equivalent of enumerate for numpy arrays? (★★☆)"
   ]
  },
  {
   "cell_type": "code",
   "id": "ae45249f",
   "metadata": {
    "ExecuteTime": {
     "end_time": "2025-03-05T07:17:10.841374Z",
     "start_time": "2025-03-05T07:17:10.839653Z"
    }
   },
   "source": [],
   "outputs": [],
   "execution_count": null
  },
  {
   "cell_type": "markdown",
   "id": "72b340c9",
   "metadata": {},
   "source": [
    "#### 56. Generate a generic 2D Gaussian-like array (★★☆)"
   ]
  },
  {
   "cell_type": "code",
   "id": "a80e5c9b",
   "metadata": {
    "ExecuteTime": {
     "end_time": "2025-03-05T07:17:10.861188Z",
     "start_time": "2025-03-05T07:17:10.858113Z"
    }
   },
   "source": [],
   "outputs": [],
   "execution_count": null
  },
  {
   "cell_type": "markdown",
   "id": "86550d61",
   "metadata": {},
   "source": [
    "#### 57. How to randomly place p elements in a 2D array? (★★☆)"
   ]
  },
  {
   "cell_type": "code",
   "id": "db9f2582",
   "metadata": {
    "ExecuteTime": {
     "end_time": "2025-03-05T07:17:10.884127Z",
     "start_time": "2025-03-05T07:17:10.881478Z"
    }
   },
   "source": [],
   "outputs": [],
   "execution_count": null
  },
  {
   "cell_type": "markdown",
   "id": "153f8cfa",
   "metadata": {},
   "source": [
    "#### 58. Subtract the mean of each row of a matrix (★★☆)"
   ]
  },
  {
   "cell_type": "code",
   "id": "8301cb12",
   "metadata": {
    "ExecuteTime": {
     "end_time": "2025-03-05T07:17:10.915449Z",
     "start_time": "2025-03-05T07:17:10.912908Z"
    }
   },
   "source": [],
   "outputs": [],
   "execution_count": null
  },
  {
   "cell_type": "markdown",
   "id": "f4038090",
   "metadata": {},
   "source": [
    "#### 59. How to sort an array by the nth column? (★★☆)"
   ]
  },
  {
   "cell_type": "code",
   "id": "eb5745df",
   "metadata": {
    "ExecuteTime": {
     "end_time": "2025-03-05T07:17:10.936206Z",
     "start_time": "2025-03-05T07:17:10.934340Z"
    }
   },
   "source": [],
   "outputs": [],
   "execution_count": null
  },
  {
   "cell_type": "markdown",
   "id": "20d2a462",
   "metadata": {},
   "source": [
    "#### 60. How to tell if a given 2D array has null columns? (★★☆)"
   ]
  },
  {
   "cell_type": "code",
   "id": "b92b7316",
   "metadata": {
    "ExecuteTime": {
     "end_time": "2025-03-05T07:17:10.968810Z",
     "start_time": "2025-03-05T07:17:10.966921Z"
    }
   },
   "source": [],
   "outputs": [],
   "execution_count": null
  },
  {
   "cell_type": "markdown",
   "id": "bb2aa49b",
   "metadata": {},
   "source": [
    "#### 61. Find the nearest value from a given value in an array (★★☆)"
   ]
  },
  {
   "cell_type": "code",
   "id": "8b62e59c",
   "metadata": {
    "ExecuteTime": {
     "end_time": "2025-03-05T07:17:10.987506Z",
     "start_time": "2025-03-05T07:17:10.985552Z"
    }
   },
   "source": [],
   "outputs": [],
   "execution_count": null
  },
  {
   "cell_type": "markdown",
   "id": "1a950e1a",
   "metadata": {},
   "source": [
    "#### 62. Considering two arrays with shape (1,3) and (3,1), how to compute their sum using an iterator? (★★☆)"
   ]
  },
  {
   "cell_type": "code",
   "id": "cad1d01b",
   "metadata": {
    "ExecuteTime": {
     "end_time": "2025-03-05T07:17:11.017971Z",
     "start_time": "2025-03-05T07:17:11.015385Z"
    }
   },
   "source": [],
   "outputs": [],
   "execution_count": null
  },
  {
   "cell_type": "markdown",
   "id": "165b3a20",
   "metadata": {},
   "source": [
    "#### 63. Create an array class that has a name attribute (★★☆)"
   ]
  },
  {
   "cell_type": "code",
   "id": "666bf983",
   "metadata": {
    "ExecuteTime": {
     "end_time": "2025-03-05T07:17:11.040910Z",
     "start_time": "2025-03-05T07:17:11.039173Z"
    }
   },
   "source": [],
   "outputs": [],
   "execution_count": null
  },
  {
   "cell_type": "markdown",
   "id": "87f85b12",
   "metadata": {},
   "source": [
    "#### 64. Consider a given vector, how to add 1 to each element indexed by a second vector (be careful with repeated indices)? (★★★)"
   ]
  },
  {
   "cell_type": "code",
   "id": "03ee4c88",
   "metadata": {
    "ExecuteTime": {
     "end_time": "2025-03-05T07:17:11.066854Z",
     "start_time": "2025-03-05T07:17:11.065416Z"
    }
   },
   "source": [],
   "outputs": [],
   "execution_count": null
  },
  {
   "cell_type": "markdown",
   "id": "1cda27c4",
   "metadata": {},
   "source": [
    "#### 65. How to accumulate elements of a vector (X) to an array (F) based on an index list (I)? (★★★)"
   ]
  },
  {
   "cell_type": "code",
   "id": "aee2c782",
   "metadata": {
    "ExecuteTime": {
     "end_time": "2025-03-05T07:17:11.085473Z",
     "start_time": "2025-03-05T07:17:11.083942Z"
    }
   },
   "source": [],
   "outputs": [],
   "execution_count": null
  },
  {
   "cell_type": "markdown",
   "id": "1db205db",
   "metadata": {},
   "source": [
    "#### 66. Considering a (w,h,3) image of (dtype=ubyte), compute the number of unique colors (★★☆)"
   ]
  },
  {
   "cell_type": "code",
   "id": "43204f35",
   "metadata": {
    "ExecuteTime": {
     "end_time": "2025-03-05T07:17:11.102495Z",
     "start_time": "2025-03-05T07:17:11.097766Z"
    }
   },
   "source": [],
   "outputs": [],
   "execution_count": null
  },
  {
   "cell_type": "markdown",
   "id": "ebaf1222",
   "metadata": {},
   "source": [
    "#### 67. Considering a four dimensions array, how to get sum over the last two axis at once? (★★★)"
   ]
  },
  {
   "cell_type": "code",
   "id": "aabbbab9",
   "metadata": {
    "ExecuteTime": {
     "end_time": "2025-03-05T07:17:11.134285Z",
     "start_time": "2025-03-05T07:17:11.132122Z"
    }
   },
   "source": [],
   "outputs": [],
   "execution_count": null
  },
  {
   "cell_type": "markdown",
   "id": "2dfb4033",
   "metadata": {},
   "source": [
    "#### 68. Considering a one-dimensional vector D, how to compute means of subsets of D using a vector S of same size describing subset  indices? (★★★)"
   ]
  },
  {
   "cell_type": "code",
   "id": "7a9c2287",
   "metadata": {
    "ExecuteTime": {
     "end_time": "2025-03-05T07:17:11.158646Z",
     "start_time": "2025-03-05T07:17:11.156970Z"
    }
   },
   "source": [],
   "outputs": [],
   "execution_count": null
  },
  {
   "cell_type": "markdown",
   "id": "7035c626",
   "metadata": {},
   "source": [
    "#### 69. How to get the diagonal of a dot product? (★★★)"
   ]
  },
  {
   "cell_type": "code",
   "id": "f6af16c1",
   "metadata": {
    "ExecuteTime": {
     "end_time": "2025-03-05T07:17:11.177730Z",
     "start_time": "2025-03-05T07:17:11.175371Z"
    }
   },
   "source": [],
   "outputs": [],
   "execution_count": null
  },
  {
   "cell_type": "markdown",
   "id": "8f73f0e5",
   "metadata": {},
   "source": [
    "#### 70. Consider the vector [1, 2, 3, 4, 5], how to build a new vector with 3 consecutive zeros interleaved between each value? (★★★)"
   ]
  },
  {
   "cell_type": "code",
   "id": "b0cabc11",
   "metadata": {
    "ExecuteTime": {
     "end_time": "2025-03-05T07:17:11.207085Z",
     "start_time": "2025-03-05T07:17:11.205100Z"
    }
   },
   "source": [],
   "outputs": [],
   "execution_count": null
  },
  {
   "cell_type": "markdown",
   "id": "bafaa79e",
   "metadata": {},
   "source": [
    "#### 71. Consider an array of dimension (5,5,3), how to mulitply it by an array with dimensions (5,5)? (★★★)"
   ]
  },
  {
   "cell_type": "code",
   "id": "d441e30b",
   "metadata": {
    "ExecuteTime": {
     "end_time": "2025-03-05T07:17:11.293953Z",
     "start_time": "2025-03-05T07:17:11.289976Z"
    }
   },
   "source": [],
   "outputs": [],
   "execution_count": null
  },
  {
   "cell_type": "markdown",
   "id": "80a9ac82",
   "metadata": {},
   "source": [
    "#### 72. How to swap two rows of an array? (★★★)"
   ]
  },
  {
   "cell_type": "code",
   "id": "1aee2791",
   "metadata": {
    "ExecuteTime": {
     "end_time": "2025-03-05T07:17:11.325161Z",
     "start_time": "2025-03-05T07:17:11.323410Z"
    }
   },
   "source": [],
   "outputs": [],
   "execution_count": null
  },
  {
   "cell_type": "markdown",
   "id": "5e53d68c",
   "metadata": {},
   "source": [
    "#### 73. Consider a set of 10 triplets describing 10 triangles (with shared vertices), find the set of unique line segments composing all the  triangles (★★★)"
   ]
  },
  {
   "cell_type": "code",
   "id": "2f975322",
   "metadata": {
    "ExecuteTime": {
     "end_time": "2025-03-05T07:17:11.398987Z",
     "start_time": "2025-03-05T07:17:11.396039Z"
    }
   },
   "source": [],
   "outputs": [],
   "execution_count": null
  },
  {
   "cell_type": "markdown",
   "id": "f85da603",
   "metadata": {},
   "source": [
    "#### 74. Given a sorted array C that corresponds to a bincount, how to produce an array A such that np.bincount(A) == C? (★★★)"
   ]
  },
  {
   "cell_type": "code",
   "id": "8c476a73",
   "metadata": {
    "ExecuteTime": {
     "end_time": "2025-03-05T07:17:11.460763Z",
     "start_time": "2025-03-05T07:17:11.455918Z"
    }
   },
   "source": [],
   "outputs": [],
   "execution_count": null
  },
  {
   "cell_type": "markdown",
   "id": "a2330e6c",
   "metadata": {},
   "source": [
    "#### 75. How to compute averages using a sliding window over an array? (★★★)"
   ]
  },
  {
   "cell_type": "code",
   "id": "35e5e9f5",
   "metadata": {
    "ExecuteTime": {
     "end_time": "2025-03-05T07:17:11.507876Z",
     "start_time": "2025-03-05T07:17:11.505253Z"
    }
   },
   "source": [],
   "outputs": [],
   "execution_count": null
  },
  {
   "cell_type": "markdown",
   "id": "87698de8",
   "metadata": {},
   "source": [
    "#### 76. Consider a one-dimensional array Z, build a two-dimensional array whose first row is (Z[0],Z[1],Z[2]) and each subsequent row is  shifted by 1 (last row should be (Z[-3],Z[-2],Z[-1]) (★★★)"
   ]
  },
  {
   "cell_type": "code",
   "id": "753763ed",
   "metadata": {
    "ExecuteTime": {
     "end_time": "2025-03-05T07:17:11.531082Z",
     "start_time": "2025-03-05T07:17:11.529452Z"
    }
   },
   "source": [],
   "outputs": [],
   "execution_count": null
  },
  {
   "cell_type": "markdown",
   "id": "b8417b15",
   "metadata": {},
   "source": [
    "#### 77. How to negate a boolean, or to change the sign of a float inplace? (★★★)"
   ]
  },
  {
   "cell_type": "code",
   "id": "3cad31b2",
   "metadata": {
    "ExecuteTime": {
     "end_time": "2025-03-05T07:17:11.576887Z",
     "start_time": "2025-03-05T07:17:11.572053Z"
    }
   },
   "source": [],
   "outputs": [],
   "execution_count": null
  },
  {
   "cell_type": "markdown",
   "id": "37a49831",
   "metadata": {},
   "source": [
    "#### 78. Consider 2 sets of points P0,P1 describing lines (2d) and a point p, how to compute distance from p to each line i (P0[i],P1[i])? (★★★)"
   ]
  },
  {
   "cell_type": "code",
   "id": "df95dce8",
   "metadata": {
    "ExecuteTime": {
     "end_time": "2025-03-05T07:17:11.619523Z",
     "start_time": "2025-03-05T07:17:11.604984Z"
    }
   },
   "source": [],
   "outputs": [],
   "execution_count": null
  },
  {
   "cell_type": "markdown",
   "id": "f5ae032f",
   "metadata": {},
   "source": [
    "#### 79. Consider 2 sets of points P0,P1 describing lines (2d) and a set of points P, how to compute distance from each point j (P[j]) to each line i (P0[i],P1[i])? (★★★)"
   ]
  },
  {
   "cell_type": "code",
   "id": "f5ae2e9b",
   "metadata": {
    "ExecuteTime": {
     "end_time": "2025-03-05T07:17:11.654763Z",
     "start_time": "2025-03-05T07:17:11.648122Z"
    }
   },
   "source": [],
   "outputs": [],
   "execution_count": null
  },
  {
   "cell_type": "markdown",
   "id": "6bc35ba2",
   "metadata": {},
   "source": [
    "#### 80. Consider an arbitrary array, write a function that extract a subpart with a fixed shape and centered on a given element (pad with a `fill` value when necessary) (★★★)"
   ]
  },
  {
   "cell_type": "code",
   "id": "2ad8db75",
   "metadata": {
    "ExecuteTime": {
     "end_time": "2025-03-05T07:17:11.694169Z",
     "start_time": "2025-03-05T07:17:11.691034Z"
    }
   },
   "source": [],
   "outputs": [],
   "execution_count": null
  },
  {
   "cell_type": "markdown",
   "id": "d17818f7",
   "metadata": {},
   "source": [
    "#### 81. Consider an array Z = [1,2,3,4,5,6,7,8,9,10,11,12,13,14], how to generate an array R = [[1,2,3,4], [2,3,4,5], [3,4,5,6], ..., [11,12,13,14]]? (★★★)"
   ]
  },
  {
   "cell_type": "code",
   "id": "97deb72f",
   "metadata": {
    "ExecuteTime": {
     "end_time": "2025-03-05T07:17:11.729374Z",
     "start_time": "2025-03-05T07:17:11.727718Z"
    }
   },
   "source": [],
   "outputs": [],
   "execution_count": null
  },
  {
   "cell_type": "markdown",
   "id": "67f526e6",
   "metadata": {},
   "source": [
    "#### 82. Compute a matrix rank (★★★)"
   ]
  },
  {
   "cell_type": "code",
   "id": "d70bed5b",
   "metadata": {
    "ExecuteTime": {
     "end_time": "2025-03-05T07:17:11.764484Z",
     "start_time": "2025-03-05T07:17:11.760738Z"
    }
   },
   "source": [],
   "outputs": [],
   "execution_count": null
  },
  {
   "cell_type": "markdown",
   "id": "0a3fb55f",
   "metadata": {},
   "source": [
    "#### 83. How to find the most frequent value in an array?"
   ]
  },
  {
   "cell_type": "code",
   "id": "b0647d07",
   "metadata": {
    "ExecuteTime": {
     "end_time": "2025-03-05T07:17:11.797120Z",
     "start_time": "2025-03-05T07:17:11.795216Z"
    }
   },
   "source": [],
   "outputs": [],
   "execution_count": null
  },
  {
   "cell_type": "markdown",
   "id": "cb0ac341",
   "metadata": {},
   "source": [
    "#### 84. Extract all the contiguous 3x3 blocks from a random 10x10 matrix (★★★)"
   ]
  },
  {
   "cell_type": "code",
   "id": "91798923",
   "metadata": {
    "ExecuteTime": {
     "end_time": "2025-03-05T07:17:11.816523Z",
     "start_time": "2025-03-05T07:17:11.814408Z"
    }
   },
   "source": [],
   "outputs": [],
   "execution_count": null
  },
  {
   "cell_type": "markdown",
   "id": "c2a9da0d",
   "metadata": {},
   "source": [
    "#### 85. Create a 2D array subclass such that Z[i,j] == Z[j,i] (★★★)"
   ]
  },
  {
   "cell_type": "code",
   "id": "f9b027ff",
   "metadata": {
    "ExecuteTime": {
     "end_time": "2025-03-05T07:17:11.897522Z",
     "start_time": "2025-03-05T07:17:11.894790Z"
    }
   },
   "source": [],
   "outputs": [],
   "execution_count": null
  },
  {
   "cell_type": "markdown",
   "id": "718ac868",
   "metadata": {},
   "source": [
    "#### 86. Consider a set of p matrices with shape (n,n) and a set of p vectors with shape (n,1). How to compute the sum of of the p matrix products at once? (result has shape (n,1)) (★★★)"
   ]
  },
  {
   "cell_type": "code",
   "id": "4de05217",
   "metadata": {
    "ExecuteTime": {
     "end_time": "2025-03-05T07:17:11.926922Z",
     "start_time": "2025-03-05T07:17:11.924158Z"
    }
   },
   "source": [],
   "outputs": [],
   "execution_count": null
  },
  {
   "cell_type": "markdown",
   "id": "a6eda6f8",
   "metadata": {},
   "source": [
    "#### 87. Consider a 16x16 array, how to get the block-sum (block size is 4x4)? (★★★)"
   ]
  },
  {
   "cell_type": "code",
   "id": "286b8db5",
   "metadata": {
    "ExecuteTime": {
     "end_time": "2025-03-05T07:17:11.972656Z",
     "start_time": "2025-03-05T07:17:11.966680Z"
    }
   },
   "source": [],
   "outputs": [],
   "execution_count": null
  },
  {
   "cell_type": "markdown",
   "id": "625aa611",
   "metadata": {},
   "source": [
    "#### 88. How to implement the Game of Life using numpy arrays? (★★★)"
   ]
  },
  {
   "cell_type": "code",
   "id": "a01c1ff2",
   "metadata": {
    "ExecuteTime": {
     "end_time": "2025-03-05T07:17:11.993852Z",
     "start_time": "2025-03-05T07:17:11.991379Z"
    }
   },
   "source": [],
   "outputs": [],
   "execution_count": null
  },
  {
   "cell_type": "markdown",
   "id": "ca3dde4a",
   "metadata": {},
   "source": [
    "#### 89. How to get the n largest values of an array (★★★)"
   ]
  },
  {
   "cell_type": "code",
   "id": "5d14148c",
   "metadata": {
    "ExecuteTime": {
     "end_time": "2025-03-05T07:17:12.016636Z",
     "start_time": "2025-03-05T07:17:12.013102Z"
    }
   },
   "source": [],
   "outputs": [],
   "execution_count": null
  },
  {
   "cell_type": "markdown",
   "id": "e233805e",
   "metadata": {},
   "source": [
    "#### 90. Given an arbitrary number of vectors, build the cartesian product (every combinations of every item) (★★★)"
   ]
  },
  {
   "cell_type": "code",
   "id": "17638e13",
   "metadata": {
    "ExecuteTime": {
     "end_time": "2025-03-05T07:17:12.080306Z",
     "start_time": "2025-03-05T07:17:12.078270Z"
    }
   },
   "source": [],
   "outputs": [],
   "execution_count": null
  },
  {
   "cell_type": "markdown",
   "id": "c163f115",
   "metadata": {},
   "source": [
    "#### 91. How to create a record array from a regular array? (★★★)"
   ]
  },
  {
   "cell_type": "code",
   "id": "da402514",
   "metadata": {
    "ExecuteTime": {
     "end_time": "2025-03-05T07:17:12.103772Z",
     "start_time": "2025-03-05T07:17:12.101264Z"
    }
   },
   "source": [],
   "outputs": [],
   "execution_count": null
  },
  {
   "cell_type": "markdown",
   "id": "049c006e",
   "metadata": {},
   "source": [
    "#### 92. Consider a large vector Z, compute Z to the power of 3 using 3 different methods (★★★)"
   ]
  },
  {
   "cell_type": "code",
   "id": "96ce278a",
   "metadata": {
    "ExecuteTime": {
     "end_time": "2025-03-05T07:17:12.129532Z",
     "start_time": "2025-03-05T07:17:12.128062Z"
    }
   },
   "source": [],
   "outputs": [],
   "execution_count": null
  },
  {
   "cell_type": "markdown",
   "id": "6e652635",
   "metadata": {},
   "source": [
    "#### 93. Consider two arrays A and B of shape (8,3) and (2,2). How to find rows of A that contain elements of each row of B regardless of the order of the elements in B? (★★★)"
   ]
  },
  {
   "cell_type": "code",
   "id": "f429d6d4",
   "metadata": {
    "ExecuteTime": {
     "end_time": "2025-03-05T07:17:12.145326Z",
     "start_time": "2025-03-05T07:17:12.143209Z"
    }
   },
   "source": [],
   "outputs": [],
   "execution_count": null
  },
  {
   "cell_type": "markdown",
   "id": "33c4755d",
   "metadata": {},
   "source": [
    "#### 94. Considering a 10x3 matrix, extract rows with unequal values (e.g. [2,2,3]) (★★★)"
   ]
  },
  {
   "cell_type": "code",
   "id": "29507586",
   "metadata": {
    "ExecuteTime": {
     "end_time": "2025-03-05T07:17:12.164307Z",
     "start_time": "2025-03-05T07:17:12.162625Z"
    }
   },
   "source": [],
   "outputs": [],
   "execution_count": null
  },
  {
   "cell_type": "markdown",
   "id": "c9fe158d",
   "metadata": {},
   "source": [
    "#### 95. Convert a vector of ints into a matrix binary representation (★★★)"
   ]
  },
  {
   "cell_type": "code",
   "id": "58209fb7",
   "metadata": {
    "ExecuteTime": {
     "end_time": "2025-03-05T07:17:12.181085Z",
     "start_time": "2025-03-05T07:17:12.179324Z"
    }
   },
   "source": [],
   "outputs": [],
   "execution_count": null
  },
  {
   "cell_type": "markdown",
   "id": "f60086c9",
   "metadata": {},
   "source": [
    "#### 96. Given a two dimensional array, how to extract unique rows? (★★★)"
   ]
  },
  {
   "cell_type": "code",
   "id": "787b6e4c",
   "metadata": {
    "ExecuteTime": {
     "end_time": "2025-03-05T07:17:12.220492Z",
     "start_time": "2025-03-05T07:17:12.218532Z"
    }
   },
   "source": [],
   "outputs": [],
   "execution_count": null
  },
  {
   "cell_type": "markdown",
   "id": "0f5e1299",
   "metadata": {},
   "source": [
    "#### 97. Considering 2 vectors A & B, write the einsum equivalent of inner, outer, sum, and mul function (★★★)"
   ]
  },
  {
   "cell_type": "code",
   "id": "cd2a8214",
   "metadata": {
    "ExecuteTime": {
     "end_time": "2025-03-05T07:17:12.248087Z",
     "start_time": "2025-03-05T07:17:12.246241Z"
    }
   },
   "source": [],
   "outputs": [],
   "execution_count": null
  },
  {
   "cell_type": "markdown",
   "id": "a04dd898",
   "metadata": {},
   "source": [
    "#### 98. Considering a path described by two vectors (X,Y), how to sample it using equidistant samples (★★★)?"
   ]
  },
  {
   "cell_type": "code",
   "id": "12d9c30f",
   "metadata": {
    "ExecuteTime": {
     "end_time": "2025-03-05T07:17:12.280616Z",
     "start_time": "2025-03-05T07:17:12.278714Z"
    }
   },
   "source": [],
   "outputs": [],
   "execution_count": null
  },
  {
   "cell_type": "markdown",
   "id": "b45bf2ae",
   "metadata": {},
   "source": [
    "#### 99. Given an integer n and a 2D array X, select from X the rows which can be interpreted as draws from a multinomial distribution with n degrees, i.e., the rows which only contain integers and which sum to n. (★★★)"
   ]
  },
  {
   "cell_type": "code",
   "id": "f4179f4a",
   "metadata": {
    "ExecuteTime": {
     "end_time": "2025-03-05T07:17:12.312901Z",
     "start_time": "2025-03-05T07:17:12.311088Z"
    }
   },
   "source": [],
   "outputs": [],
   "execution_count": null
  },
  {
   "cell_type": "markdown",
   "id": "d92b6592",
   "metadata": {},
   "source": [
    "#### 100. Compute bootstrapped 95% confidence intervals for the mean of a 1D array X (i.e., resample the elements of an array with replacement N times, compute the mean of each sample, and then compute percentiles over the means). (★★★)"
   ]
  },
  {
   "cell_type": "code",
   "id": "256ebe30",
   "metadata": {
    "ExecuteTime": {
     "end_time": "2025-03-05T07:17:12.346957Z",
     "start_time": "2025-03-05T07:17:12.345643Z"
    }
   },
   "source": [],
   "outputs": [],
   "execution_count": null
  }
 ],
 "metadata": {
  "kernelspec": {
   "display_name": "lab1_env",
   "language": "python",
   "name": "lab1_env"
  },
  "language_info": {
   "codemirror_mode": {
    "name": "ipython",
    "version": 3
   },
   "file_extension": ".py",
   "mimetype": "text/x-python",
   "name": "python",
   "nbconvert_exporter": "python",
   "pygments_lexer": "ipython3",
   "version": "3.12.7"
  }
 },
 "nbformat": 4,
 "nbformat_minor": 5
}
